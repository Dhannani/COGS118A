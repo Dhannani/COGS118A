{
 "cells": [
  {
   "cell_type": "markdown",
   "metadata": {},
   "source": [
    "# 1)\n",
    "\n",
    "1.1)\n",
    "\n",
    "\n",
    "\n",
    "1.2)\n",
    "\n"
   ]
  },
  {
   "cell_type": "markdown",
   "metadata": {},
   "source": [
    "# 2)"
   ]
  },
  {
   "cell_type": "markdown",
   "metadata": {},
   "source": [
    "### 2.1)"
   ]
  },
  {
   "cell_type": "code",
   "execution_count": 1,
   "metadata": {
    "collapsed": true
   },
   "outputs": [],
   "source": [
    "import numpy as np\n",
    "import matplotlib.pyplot as plt\n",
    "import matplotlib as mpl\n",
    "from mpl_toolkits.mplot3d import Axes3D\n",
    "import math\n",
    "%config InlineBackend.figure_format = 'retina'\n",
    "%matplotlib inline\n",
    "from sklearn.utils import shuffle\n",
    "import scipy.io as sio\n",
    "plt.rcParams['figure.figsize'] = 8,8"
   ]
  },
  {
   "cell_type": "code",
   "execution_count": 20,
   "metadata": {},
   "outputs": [
    {
     "name": "stdout",
     "output_type": "stream",
     "text": [
      "X\n",
      "[[ 2.70e+01  1.00e+00  1.60e+02 ...  1.90e+00  1.10e+01  2.50e+01]\n",
      " [ 3.60e+01  1.00e+00  1.53e+02 ...  1.70e+00  1.97e+01  3.43e+01]\n",
      " [ 2.90e+01  0.00e+00  1.72e+02 ...  1.70e+00  2.04e+01  3.06e+01]\n",
      " ...\n",
      " [ 3.30e+01  1.00e+00  1.50e+02 ...  2.10e+00  2.13e+01  4.18e+01]\n",
      " [ 5.00e+01  0.00e+00  1.68e+02 ...  8.00e-01 -5.90e+00  1.00e-01]\n",
      " [ 6.90e+01  1.00e+00  1.60e+02 ...  1.30e+00  1.18e+01  2.35e+01]]\n"
     ]
    }
   ],
   "source": [
    "X_and_Y = np.load('arrhythmia.npy')\n",
    "np.random.shuffle(X_and_Y)\n",
    "X = X_and_Y[:, :279]    # First column to second last column: Features (numerical values) \n",
    "Y = X_and_Y[:, 279]   # Last column: Labels (0 or 1)\n",
    "#print(X.shape, Y.shape)\n",
    "#print(\"full\")\n",
    "#print(X_and_Y)\n",
    "print(\"X\")\n",
    "print(X)"
   ]
  },
  {
   "cell_type": "code",
   "execution_count": 87,
   "metadata": {},
   "outputs": [
    {
     "name": "stdout",
     "output_type": "stream",
     "text": [
      "[[ 2.70e+01  1.00e+00  1.60e+02 ...  1.90e+00  1.10e+01  2.50e+01]\n",
      " [ 3.60e+01  1.00e+00  1.53e+02 ...  1.70e+00  1.97e+01  3.43e+01]\n",
      " [ 2.90e+01  0.00e+00  1.72e+02 ...  1.70e+00  2.04e+01  3.06e+01]\n",
      " ...\n",
      " [ 3.30e+01  1.00e+00  1.50e+02 ...  2.10e+00  2.13e+01  4.18e+01]\n",
      " [ 5.00e+01  0.00e+00  1.68e+02 ...  8.00e-01 -5.90e+00  1.00e-01]\n",
      " [ 6.90e+01  1.00e+00  1.60e+02 ...  1.30e+00  1.18e+01  2.35e+01]]\n"
     ]
    }
   ],
   "source": [
    "threshold = round(len(Y) * 0.8)\n",
    "\n",
    "X_train_val = X[:threshold, :] # Get features from train + val set.\n",
    "X_test      = X[threshold+1:, :] # Get features from test set.     \n",
    "Y_train_val = Y[:threshold] # Get labels from train + val set.\n",
    "Y_test      = Y[threshold+1:] # Get labels from test set.\n",
    "\n",
    "print(X)"
   ]
  },
  {
   "cell_type": "code",
   "execution_count": 88,
   "metadata": {},
   "outputs": [
    {
     "name": "stdout",
     "output_type": "stream",
     "text": [
      "(151, 279)\n"
     ]
    }
   ],
   "source": [
    "X_folds = np.array_split(X, 3, 0)\n",
    "print(X_folds[1].shape)"
   ]
  },
  {
   "cell_type": "code",
   "execution_count": 92,
   "metadata": {},
   "outputs": [
    {
     "name": "stdout",
     "output_type": "stream",
     "text": [
      "(150, 279)\n",
      "(151, 279)\n",
      "(150, 279)\n"
     ]
    }
   ],
   "source": [
    "X_folds_copy = X_folds.copy()\n",
    "print(X_folds_copy[2].shape)\n",
    "X_list = X_folds_copy.pop(1)\n",
    "print(X_list.shape)\n",
    "print(X_folds_copy[1].shape)"
   ]
  },
  {
   "cell_type": "code",
   "execution_count": 93,
   "metadata": {},
   "outputs": [],
   "source": [
    "X2 = np.concatenate(X_folds_copy)"
   ]
  },
  {
   "cell_type": "code",
   "execution_count": 94,
   "metadata": {},
   "outputs": [
    {
     "name": "stdout",
     "output_type": "stream",
     "text": [
      "[[ 2.70e+01  1.00e+00  1.60e+02 ...  1.90e+00  1.10e+01  2.50e+01]\n",
      " [ 3.60e+01  1.00e+00  1.53e+02 ...  1.70e+00  1.97e+01  3.43e+01]\n",
      " [ 2.90e+01  0.00e+00  1.72e+02 ...  1.70e+00  2.04e+01  3.06e+01]\n",
      " ...\n",
      " [ 3.30e+01  1.00e+00  1.50e+02 ...  2.10e+00  2.13e+01  4.18e+01]\n",
      " [ 5.00e+01  0.00e+00  1.68e+02 ...  8.00e-01 -5.90e+00  1.00e-01]\n",
      " [ 6.90e+01  1.00e+00  1.60e+02 ...  1.30e+00  1.18e+01  2.35e+01]]\n"
     ]
    }
   ],
   "source": [
    "print(X2)"
   ]
  },
  {
   "cell_type": "code",
   "execution_count": null,
   "metadata": {
    "collapsed": true
   },
   "outputs": [],
   "source": []
  }
 ],
 "metadata": {
  "kernelspec": {
   "display_name": "Python 3",
   "language": "python",
   "name": "python3"
  },
  "language_info": {
   "codemirror_mode": {
    "name": "ipython",
    "version": 3
   },
   "file_extension": ".py",
   "mimetype": "text/x-python",
   "name": "python",
   "nbconvert_exporter": "python",
   "pygments_lexer": "ipython3",
   "version": "3.6.2"
  }
 },
 "nbformat": 4,
 "nbformat_minor": 2
}
